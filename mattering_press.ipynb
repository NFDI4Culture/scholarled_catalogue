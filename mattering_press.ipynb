{
 "cells": [
  {
   "cell_type": "raw",
   "metadata": {},
   "source": [
    "---\n",
    "title: \"Mattering Press\"\n",
    "jupyter: python3\n",
    "execute:\n",
    "  echo: false\n",
    "  output: asis\n",
    "---"
   ]
  },
  {
   "attachments": {},
   "cell_type": "markdown",
   "metadata": {},
   "source": [
    "This page shows the latest publications (in descending order of publication date) from [Mattering Press](https://www.matteringpress.org/).\n",
    "\n",
    "Metadata is licensed as [Creative Commons Zero (CC0)](https://creativecommons.org/share-your-work/public-domain/cc0/) and is retrieved from [Thoth](https://thoth.pub/)'s open APIs."
   ]
  },
  {
   "cell_type": "code",
   "execution_count": 4,
   "metadata": {},
   "outputs": [
    {
     "name": "stdout",
     "output_type": "stream",
     "text": [
      "Last updated: 2023-01-18 15:11:41\n"
     ]
    }
   ],
   "source": [
    "from datetime import datetime\n",
    "\n",
    "# datetime object containing current date and time\n",
    "now = datetime.now()\n",
    "\n",
    "# YY-mm-dd H:M:S\n",
    "now_string = now.strftime(\"%Y-%m-%d %H:%M:%S\")\n",
    "\n",
    "print('Last updated: ' + now_string)"
   ]
  },
  {
   "cell_type": "code",
   "execution_count": 2,
   "metadata": {},
   "outputs": [
    {
     "ename": "ThothError",
     "evalue": "GraphQL Error.\nRequest:\n\n            query {\n                works(offset: 0, , limit: 100, , order: {field: PUBLICATION_DATE, direction: DESC}, , publishers: 17d701c1-307e-4228-83ca-d8e90d7b87a6, , workTypes: MONOGRAPH, , workStatus: ACTIVE, )\n                {workType\nworkStatus\nfullTitle\ntitle\nsubtitle\nreference\nedition\nimprintId\ndoi\npublicationDate\nplace\npageCount\npageBreakdown\nimageCount\ntableCount\naudioCount\nvideoCount\nlicense\ncopyrightHolder\nlandingPage\nlccn\noclc\nshortAbstract\nlongAbstract\ngeneralNote\ntoc\nworkId\ncoverUrl\ncoverCaption\nsubjects { subjectId, subjectType, subjectCode, subjectOrdinal, __typename }\npublications { isbn publicationType __typename }\ncontributions { fullName contributionType mainContribution affiliations { affiliationId institution { institutionName institutionId ror fundings { institutionId program projectName projectShortname grantNumber jurisdiction } } } contributor { contributorId orcid firstName lastName fullName } contributionId contributionOrdinal __typename }\nimprint { __typename publisher { publisherName publisherId __typename } }\n__typename}\n            }\n        \n\nResponse:\n{\"errors\":[{\"message\":\"Unexpected character \\\"d\\\"\",\"locations\":[{\"line\":3,\"column\":139}]}]}",
     "output_type": "error",
     "traceback": [
      "\u001b[0;31m---------------------------------------------------------------------------\u001b[0m",
      "\u001b[0;31mAssertionError\u001b[0m                            Traceback (most recent call last)",
      "File \u001b[0;32m/Library/Frameworks/Python.framework/Versions/3.10/lib/python3.10/site-packages/thothlibrary/query.py:66\u001b[0m, in \u001b[0;36mThothQuery.run\u001b[0;34m(self, client)\u001b[0m\n\u001b[1;32m     65\u001b[0m \u001b[39mif\u001b[39;00m \u001b[39m\"\u001b[39m\u001b[39merrors\u001b[39m\u001b[39m\"\u001b[39m \u001b[39min\u001b[39;00m serialised:\n\u001b[0;32m---> 66\u001b[0m     \u001b[39mraise\u001b[39;00m \u001b[39mAssertionError\u001b[39;00m\n\u001b[1;32m     67\u001b[0m \u001b[39mif\u001b[39;00m \u001b[39mself\u001b[39m\u001b[39m.\u001b[39mraw:\n",
      "\u001b[0;31mAssertionError\u001b[0m: ",
      "\nDuring handling of the above exception, another exception occurred:\n",
      "\u001b[0;31mThothError\u001b[0m                                Traceback (most recent call last)",
      "Cell \u001b[0;32mIn [2], line 10\u001b[0m\n\u001b[1;32m      8\u001b[0m \u001b[39m# calling the Thoth GraphQL API\u001b[39;00m\n\u001b[1;32m      9\u001b[0m thoth \u001b[39m=\u001b[39m ThothClient()\n\u001b[0;32m---> 10\u001b[0m response \u001b[39m=\u001b[39m thoth\u001b[39m.\u001b[39;49mworks(publishers\u001b[39m=\u001b[39;49mmattering, work_status\u001b[39m=\u001b[39;49m\u001b[39m'\u001b[39;49m\u001b[39mACTIVE\u001b[39;49m\u001b[39m'\u001b[39;49m, work_types\u001b[39m=\u001b[39;49m\u001b[39m'\u001b[39;49m\u001b[39mMONOGRAPH\u001b[39;49m\u001b[39m'\u001b[39;49m, order\u001b[39m=\u001b[39;49m\u001b[39m'\u001b[39;49m\u001b[39m{\u001b[39;49m\u001b[39mfield: PUBLICATION_DATE, direction: DESC}\u001b[39;49m\u001b[39m'\u001b[39;49m)\n\u001b[1;32m     12\u001b[0m months \u001b[39m=\u001b[39m []\n\u001b[1;32m     14\u001b[0m \u001b[39mfor\u001b[39;00m result \u001b[39min\u001b[39;00m response:\n",
      "File \u001b[0;32m/Library/Frameworks/Python.framework/Versions/3.10/lib/python3.10/site-packages/thothlibrary/thoth-0_8_4/endpoints.py:745\u001b[0m, in \u001b[0;36mThothClient0_8_4.works\u001b[0;34m(self, limit, offset, search, order, publishers, work_types, work_status, raw)\u001b[0m\n\u001b[1;32m    742\u001b[0m \u001b[39mself\u001b[39m\u001b[39m.\u001b[39m_dictionary_append(parameters, \u001b[39m'\u001b[39m\u001b[39mworkTypes\u001b[39m\u001b[39m'\u001b[39m, work_types)\n\u001b[1;32m    743\u001b[0m \u001b[39mself\u001b[39m\u001b[39m.\u001b[39m_dictionary_append(parameters, \u001b[39m'\u001b[39m\u001b[39mworkStatus\u001b[39m\u001b[39m'\u001b[39m, work_status)\n\u001b[0;32m--> 745\u001b[0m \u001b[39mreturn\u001b[39;00m \u001b[39mself\u001b[39;49m\u001b[39m.\u001b[39;49m_api_request(\u001b[39m\"\u001b[39;49m\u001b[39mworks\u001b[39;49m\u001b[39m\"\u001b[39;49m, parameters, return_raw\u001b[39m=\u001b[39;49mraw)\n",
      "File \u001b[0;32m/Library/Frameworks/Python.framework/Versions/3.10/lib/python3.10/site-packages/thothlibrary/client.py:162\u001b[0m, in \u001b[0;36mThothClient._api_request\u001b[0;34m(self, endpoint_name, parameters, return_raw)\u001b[0m\n\u001b[1;32m    153\u001b[0m \u001b[39mdef\u001b[39;00m \u001b[39m_api_request\u001b[39m(\u001b[39mself\u001b[39m, endpoint_name: \u001b[39mstr\u001b[39m, parameters,\n\u001b[1;32m    154\u001b[0m                  return_raw: \u001b[39mbool\u001b[39m \u001b[39m=\u001b[39m \u001b[39mFalse\u001b[39;00m):\n\u001b[1;32m    155\u001b[0m     \u001b[39m\"\"\"\u001b[39;00m\n\u001b[1;32m    156\u001b[0m \u001b[39m    Makes a request to the API\u001b[39;00m\n\u001b[1;32m    157\u001b[0m \u001b[39m    @param endpoint_name: the name of the endpoint\u001b[39;00m\n\u001b[0;32m   (...)\u001b[0m\n\u001b[1;32m    160\u001b[0m \u001b[39m    @return: an object or JSON of the request\u001b[39;00m\n\u001b[1;32m    161\u001b[0m \u001b[39m    \"\"\"\u001b[39;00m\n\u001b[0;32m--> 162\u001b[0m     response \u001b[39m=\u001b[39m \u001b[39mself\u001b[39;49m\u001b[39m.\u001b[39;49mquery(endpoint_name, parameters, raw\u001b[39m=\u001b[39;49mreturn_raw)\n\u001b[1;32m    164\u001b[0m     \u001b[39mif\u001b[39;00m return_raw:\n\u001b[1;32m    165\u001b[0m         \u001b[39mreturn\u001b[39;00m response\n",
      "File \u001b[0;32m/Library/Frameworks/Python.framework/Versions/3.10/lib/python3.10/site-packages/thothlibrary/client.py:65\u001b[0m, in \u001b[0;36mThothClient.query\u001b[0;34m(self, query_name, parameters, raw)\u001b[0m\n\u001b[1;32m     63\u001b[0m \u001b[39m\"\"\"Instantiate a thoth query and execute\"\"\"\u001b[39;00m\n\u001b[1;32m     64\u001b[0m query \u001b[39m=\u001b[39m ThothQuery(query_name, parameters, \u001b[39mself\u001b[39m\u001b[39m.\u001b[39mQUERIES, raw\u001b[39m=\u001b[39mraw)\n\u001b[0;32m---> 65\u001b[0m \u001b[39mreturn\u001b[39;00m query\u001b[39m.\u001b[39;49mrun(\u001b[39mself\u001b[39;49m\u001b[39m.\u001b[39;49mclient)\n",
      "File \u001b[0;32m/Library/Frameworks/Python.framework/Versions/3.10/lib/python3.10/site-packages/thothlibrary/query.py:73\u001b[0m, in \u001b[0;36mThothQuery.run\u001b[0;34m(self, client)\u001b[0m\n\u001b[1;32m     69\u001b[0m     \u001b[39mreturn\u001b[39;00m serialised[\u001b[39m\"\u001b[39m\u001b[39mdata\u001b[39m\u001b[39m\"\u001b[39m][\u001b[39mself\u001b[39m\u001b[39m.\u001b[39mquery_name]\n\u001b[1;32m     70\u001b[0m \u001b[39mexcept\u001b[39;00m (\u001b[39mKeyError\u001b[39;00m, \u001b[39mTypeError\u001b[39;00m, \u001b[39mValueError\u001b[39;00m, \u001b[39mAssertionError\u001b[39;00m,\n\u001b[1;32m     71\u001b[0m         json\u001b[39m.\u001b[39mdecoder\u001b[39m.\u001b[39mJSONDecodeError,\n\u001b[1;32m     72\u001b[0m         requests\u001b[39m.\u001b[39mexceptions\u001b[39m.\u001b[39mRequestException):\n\u001b[0;32m---> 73\u001b[0m     \u001b[39mraise\u001b[39;00m ThothError(\u001b[39mself\u001b[39m\u001b[39m.\u001b[39mrequest, result)\n",
      "\u001b[0;31mThothError\u001b[0m: GraphQL Error.\nRequest:\n\n            query {\n                works(offset: 0, , limit: 100, , order: {field: PUBLICATION_DATE, direction: DESC}, , publishers: 17d701c1-307e-4228-83ca-d8e90d7b87a6, , workTypes: MONOGRAPH, , workStatus: ACTIVE, )\n                {workType\nworkStatus\nfullTitle\ntitle\nsubtitle\nreference\nedition\nimprintId\ndoi\npublicationDate\nplace\npageCount\npageBreakdown\nimageCount\ntableCount\naudioCount\nvideoCount\nlicense\ncopyrightHolder\nlandingPage\nlccn\noclc\nshortAbstract\nlongAbstract\ngeneralNote\ntoc\nworkId\ncoverUrl\ncoverCaption\nsubjects { subjectId, subjectType, subjectCode, subjectOrdinal, __typename }\npublications { isbn publicationType __typename }\ncontributions { fullName contributionType mainContribution affiliations { affiliationId institution { institutionName institutionId ror fundings { institutionId program projectName projectShortname grantNumber jurisdiction } } } contributor { contributorId orcid firstName lastName fullName } contributionId contributionOrdinal __typename }\nimprint { __typename publisher { publisherName publisherId __typename } }\n__typename}\n            }\n        \n\nResponse:\n{\"errors\":[{\"message\":\"Unexpected character \\\"d\\\"\",\"locations\":[{\"line\":3,\"column\":139}]}]}"
     ]
    }
   ],
   "source": [
    "from thothlibrary import ThothClient\n",
    "from datetime import datetime\n",
    "import json\n",
    "\n",
    "# publisher ID variables\n",
    "mattering = '17d701c1-307e-4228-83ca-d8e90d7b87a6'\n",
    "\n",
    "publishers_ids = '[\"' + mattering + '\"]'\n",
    " \n",
    "# calling the Thoth GraphQL API\n",
    "thoth = ThothClient()\n",
    "response = thoth.works(publishers=publishers_ids, work_status='ACTIVE', work_types='MONOGRAPH', order='{field: PUBLICATION_DATE, direction: DESC}')\n",
    "\n",
    "months = []\n",
    "\n",
    "for result in response:\n",
    "    if result['publicationDate']:\n",
    "        date = datetime.strptime(result['publicationDate'], '%Y-%m-%d')\n",
    "        date = date.strftime('%B %Y')\n",
    "        # display month heading if the month has not previously been displayed\n",
    "        if not months or date != months[-1]:\n",
    "            print('## ' + date + '\\n')\n",
    "            months.append(date)\n",
    "    else: \n",
    "        print('## No date\\n')\n",
    "    print('### ' + result['fullTitle'] + '\\n')\n",
    "    if result['coverUrl']:\n",
    "        print('<img src=\"' + result['coverUrl'] + '\" alt=\"cover for ' + result['fullTitle'] + '\" width=\"300\"/>\\n')\n",
    "    for contribution in result['contributions']:\n",
    "        print(contribution['contributionType'].capitalize() + ': ' + contribution['fullName'] + '\\n')\n",
    "    if result['place'] and result['imprint']['publisher']['publisherName'] and result['publicationDate']:\n",
    "        print(result['place'] + ': ' + result['imprint']['publisher']['publisherName'] + ', ' + result['publicationDate'][0:4] + '\\n')\n",
    "    print('[' + result['doi'] + ']' + '(' + result['doi'] + ')' + '\\n')\n",
    "    if result['shortAbstract']:\n",
    "        print(result['shortAbstract'] + '\\n')\n",
    "    print('\\n\\n')"
   ]
  }
 ],
 "metadata": {
  "kernelspec": {
   "display_name": "Python 3",
   "language": "python",
   "name": "python3"
  },
  "language_info": {
   "codemirror_mode": {
    "name": "ipython",
    "version": 3
   },
   "file_extension": ".py",
   "mimetype": "text/x-python",
   "name": "python",
   "nbconvert_exporter": "python",
   "pygments_lexer": "ipython3",
   "version": "3.10.8"
  },
  "orig_nbformat": 4,
  "vscode": {
   "interpreter": {
    "hash": "aee8b7b246df8f9039afb4144a1f6fd8d2ca17a180786b69acc140d282b71a49"
   }
  }
 },
 "nbformat": 4,
 "nbformat_minor": 2
}
