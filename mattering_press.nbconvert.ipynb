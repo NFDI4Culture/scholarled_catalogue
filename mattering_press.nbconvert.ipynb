{
 "cells": [
  {
   "cell_type": "raw",
   "metadata": {},
   "source": [
    "---\n",
    "title: \"Mattering Press\"\n",
    "jupyter: python3\n",
    "execute:\n",
    "  echo: false\n",
    "  output: asis\n",
    "---"
   ]
  },
  {
   "attachments": {},
   "cell_type": "markdown",
   "metadata": {},
   "source": [
    "This page shows the latest publications (in descending order of publication date) from [Mattering Press](https://www.matteringpress.org/).\n",
    "\n",
    "Metadata is licensed as [Creative Commons Zero (CC0)](https://creativecommons.org/share-your-work/public-domain/cc0/) and is retrieved from [Thoth](https://thoth.pub/)'s open APIs."
   ]
  },
  {
   "cell_type": "code",
   "execution_count": 1,
   "metadata": {},
   "outputs": [
    {
     "name": "stdout",
     "output_type": "stream",
     "text": [
      "Last updated: 2023-04-11 00:00:13\n"
     ]
    }
   ],
   "source": [
    "from datetime import datetime\n",
    "\n",
    "# datetime object containing current date and time\n",
    "now = datetime.now()\n",
    "\n",
    "# YY-mm-dd H:M:S\n",
    "now_string = now.strftime(\"%Y-%m-%d %H:%M:%S\")\n",
    "\n",
    "print('Last updated: ' + now_string)"
   ]
  },
  {
   "cell_type": "code",
   "execution_count": 2,
   "metadata": {},
   "outputs": [
    {
     "name": "stdout",
     "output_type": "stream",
     "text": [
      "## April 2022\n",
      "\n",
      "### Concealing for Freedom: The Making of Encryption,  Secure Messaging and Digital Liberties\n",
      "\n",
      "Author: Ksenia Ermoshina\n",
      "\n",
      "Author: Francesca Musiani\n",
      "\n",
      "Foreword_by: Laura DeNardis\n",
      "\n",
      "Manchester, UK: Mattering Press, 2022\n",
      "\n",
      "[https://doi.org/10.28938/9781912729227](https://doi.org/10.28938/9781912729227)\n",
      "\n",
      "Concealing for Freedom: The Making of Encryption, Secure Messaging and Digital Liberties sets out to explore one of the core battlegrounds of Internet governance: the encryption of online communications. Current debates around encryption have fundamental implications for our individual liberties and collective presence on the Internet. Encryption of communications at scale and in increasingly usable ways has become a matter of public concern, especially since Edward Snowden’s 2013 revelations. A new cryptographic imaginary is taking hold, which sees encryption as a necessary precondition for the formation of networked publics. At the same time, there have been major evolutions and accelerations in the field of secure communications, prompted in part by the cryptography community’s renewed efforts to create next-generation secure messaging protocols and applications. The book explores developers’ actions and their interactions with other stakeholders, for instance users, security trainers, standardising bodies, and funding organizations. It also examines their interactions with the technical artifacts they develop, in which a core common objective is to create tools that “conceal for freedom” even as how this objective is met differs according to technical architectures, the user publics being targeted and the tools’ underlying values and business models.\n",
      "\n",
      "\n",
      "\n",
      "\n",
      "## November 2021\n",
      "\n",
      "### Engineering the Climate: Science, Politics and Visions of Control\n",
      "\n",
      "<img src=\"https://www.matteringpress.org/wp-content/uploads/2021/09/9781912729265_Thumb.jpg\" alt=\"cover for Engineering the Climate: Science, Politics and Visions of Control\" width=\"300\"/>\n",
      "\n",
      "Author: Julia Schubert\n",
      "\n",
      "Manchester, UK: Mattering Press, 2021\n",
      "\n",
      "[https://doi.org/10.28938/9781912729265](https://doi.org/10.28938/9781912729265)\n",
      "\n",
      "Notions of the impending climate crisis have pushed a set of highly contested techno-scientific measures onto policy agendas around the world. Suggestions to deliberately alter, to engineer, the Earth’s climate have gained political currency in recent years not as a positive vision of techno-scientific innovation, but as a daunting measure of last resort. The controversial status of various so-called climate engineering proposals raises a simple, yet pressing question: How has it has come to this? And, more specifically, how did such contested measures earn their place on policy agendas, despite enormous scientific complexities and fierce political contestation?\n",
      "\n",
      "\n",
      "\n",
      "\n",
      "## July 2018\n",
      "\n",
      "### Ghost-Managed Medicine: Big Pharma’s Invisible Hands\n",
      "\n",
      "<img src=\"https://www.matteringpress.org/wp-content/uploads/2018/07/GMM_front_433x650.jpg\" alt=\"cover for Ghost-Managed Medicine: Big Pharma’s Invisible Hands\" width=\"300\"/>\n",
      "\n",
      "Author: Sergio Sismondo\n",
      "\n",
      "Manchester, UK: Mattering Press, 2018\n",
      "\n",
      "[https://doi.org/10.28938/9780995527775](https://doi.org/10.28938/9780995527775)\n",
      "\n",
      "\n",
      "\n",
      "\n",
      "### An Anthropology of Common Ground: Awkward Encounters in Heritage Work\n",
      "\n",
      "<img src=\"https://www.matteringpress.org/wp-content/uploads/2018/07/AOCG_front_433x650.jpg\" alt=\"cover for An Anthropology of Common Ground: Awkward Encounters in Heritage Work\" width=\"300\"/>\n",
      "\n",
      "Author: Nathalia Brichet\n",
      "\n",
      "Manchester: Mattering Press, 2018\n",
      "\n",
      "[https://doi.org/10.28938/9780995527799](https://doi.org/10.28938/9780995527799)\n",
      "\n",
      "Paying attention to details and ‘small stories’ as that which make worlds (heritage projects as well as ethnography), the book proposes a kind of postcolonial scholarship. Rather than uncovering or building up one story about the Danish-Ghanaian past, the work insists on providing ‘inconclusive’ analyses, collaboratively generated in the course of the project work and in the process of writing ethnographically about it. The ambition is to nurture fieldwork as an opportunity for creating a common ground, on which to think about what heritage and ethnography could be. Common ground, then, is not only an ideal of the joint heritage project, but an expression of an anthropological ambition. In consequence, the book is an account of a particular ethnographic research project – the ‘methods story’ being about how post-colonial relations might be noticed and supported and about how empirical research is done as relations between what is going on in the field and the way that the ethnographer chooses to tell the story of the field in the text.\n",
      "\n",
      "\n",
      "\n",
      "\n",
      "## July 2016\n",
      "\n",
      "### Imagining Classrooms: Stories of children, teaching, and ethnography\n",
      "\n",
      "<img src=\"https://www.matteringpress.org/wp-content/uploads/2018/04/Imagining_classrooms_hr.jpg\" alt=\"cover for Imagining Classrooms: Stories of children, teaching, and ethnography\" width=\"300\"/>\n",
      "\n",
      "Author: Vicki Macknight\n",
      "\n",
      "Manchester, UK: Mattering Press, 2016\n",
      "\n",
      "[https://doi.org/10.28938/9780993144967](https://doi.org/10.28938/9780993144967)\n",
      "\n",
      "\n",
      "\n",
      "\n"
     ]
    }
   ],
   "source": [
    "from thothlibrary import ThothClient\n",
    "from datetime import datetime\n",
    "import json\n",
    "\n",
    "# publisher ID variables\n",
    "mattering = '17d701c1-307e-4228-83ca-d8e90d7b87a6'\n",
    "\n",
    "publishers_ids = '[\"' + mattering + '\"]'\n",
    " \n",
    "# calling the Thoth GraphQL API\n",
    "thoth = ThothClient()\n",
    "response = thoth.works(publishers=publishers_ids, work_status='ACTIVE', work_types='MONOGRAPH', order='{field: PUBLICATION_DATE, direction: DESC}')\n",
    "\n",
    "months = []\n",
    "\n",
    "for result in response:\n",
    "    if result['publicationDate']:\n",
    "        date = datetime.strptime(result['publicationDate'], '%Y-%m-%d')\n",
    "        date = date.strftime('%B %Y')\n",
    "        # display month heading if the month has not previously been displayed\n",
    "        if not months or date != months[-1]:\n",
    "            print('## ' + date + '\\n')\n",
    "            months.append(date)\n",
    "    else: \n",
    "        print('## No date\\n')\n",
    "    print('### ' + result['fullTitle'] + '\\n')\n",
    "    if result['coverUrl']:\n",
    "        print('<img src=\"' + result['coverUrl'] + '\" alt=\"cover for ' + result['fullTitle'] + '\" width=\"300\"/>\\n')\n",
    "    for contribution in result['contributions']:\n",
    "        print(contribution['contributionType'].capitalize() + ': ' + contribution['fullName'] + '\\n')\n",
    "    if result['place'] and result['imprint']['publisher']['publisherName'] and result['publicationDate']:\n",
    "        print(result['place'] + ': ' + result['imprint']['publisher']['publisherName'] + ', ' + result['publicationDate'][0:4] + '\\n')\n",
    "    print('[' + result['doi'] + ']' + '(' + result['doi'] + ')' + '\\n')\n",
    "    if result['shortAbstract']:\n",
    "        print(result['shortAbstract'] + '\\n')\n",
    "    print('\\n\\n')"
   ]
  }
 ],
 "metadata": {
  "kernelspec": {
   "display_name": "Python 3",
   "language": "python",
   "name": "python3"
  },
  "language_info": {
   "codemirror_mode": {
    "name": "ipython",
    "version": 3
   },
   "file_extension": ".py",
   "mimetype": "text/x-python",
   "name": "python",
   "nbconvert_exporter": "python",
   "pygments_lexer": "ipython3",
   "version": "3.8.2"
  },
  "vscode": {
   "interpreter": {
    "hash": "aee8b7b246df8f9039afb4144a1f6fd8d2ca17a180786b69acc140d282b71a49"
   }
  }
 },
 "nbformat": 4,
 "nbformat_minor": 2
}
